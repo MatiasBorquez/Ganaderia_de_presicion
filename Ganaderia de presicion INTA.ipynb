{
 "cells": [
  {
   "cell_type": "markdown",
   "id": "933d6a74",
   "metadata": {},
   "source": [
    "# Lectura y uso de datos cualitativos"
   ]
  },
  {
   "cell_type": "code",
   "execution_count": null,
   "id": "022faa38",
   "metadata": {},
   "outputs": [],
   "source": [
    "import numpy as np\n",
    "import pandas as pd\n",
    "import matplotlib.pyplot as plt\n",
    "import matplotlib as mpl\n",
    "import pymysql\n",
    "import seaborn as sns\n",
    "import requests\n",
    "from requests.auth import HTTPBasicAuth\n",
    "from bs4 import BeautifulSoup\n",
    "import pandas as pd\n",
    "import folium\n",
    "from folium.plugins import HeatMap\n",
    "from sklearn.linear_model import LinearRegression\n",
    "from geopy import distance\n",
    "from scipy import stats"
   ]
  },
  {
   "cell_type": "markdown",
   "id": "c6c1be48",
   "metadata": {},
   "source": [
    "# Posibilidades de investigacion con los datos\n",
    "Temperatura ambiente y humedad: te permiten conocer las condiciones climáticas en las que se encuentra el ganado, lo que es importante para prevenir enfermedades, manejar el bienestar animal y ajustar la ventilación y calefacción en los establos.\n",
    "\n",
    "Temperatura corporal del animal: la temperatura corporal del animal puede ser un indicador de su salud y bienestar. Puedes identificar patrones de temperatura que indiquen enfermedades, infecciones o estrés, lo que te permitirá actuar rápidamente para prevenir problemas de salud en el rebaño.\n",
    "\n",
    "Ubicación geográfica: con la latitud y longitud de los animales, puedes realizar análisis de comportamiento y movimiento, como el análisis de pastoreo, que te permiten optimizar el uso de pastos y planificar la rotación del ganado.\n",
    "\n",
    "Batería y fecha/hora: te permiten saber cuándo se realizó la última medición de los datos, lo que es importante para garantizar la precisión de los datos. Además, la información de batería te permite conocer el estado de los dispositivos y programar su reemplazo o carga.\n",
    "\n",
    "Comportamiento del animal: la tecnología de seguimiento y monitoreo de animales también puede proporcionar información sobre el comportamiento del ganado, como la actividad y el tiempo de rumia. Esta información puede ayudarte a detectar signos tempranos de enfermedades, identificar patrones de comportamiento que indiquen estrés o cambios en el bienestar animal.\n",
    "\n",
    "Edad del animal: conocer la edad de los animales puede ser importante para monitorear el crecimiento y desarrollo del ganado, y adaptar la alimentación y el manejo a las necesidades específicas de cada etapa de la vida.\n",
    "\n",
    "Tiempo de permanencia en los corrales: registrar el tiempo que los animales pasan en los corrales es importante para monitorear la carga animal y prevenir el hacinamiento, lo que puede provocar estrés y enfermedades en el rebaño.\n",
    "\n",
    "Identificación de animales: la identificación individual de los animales es importante para llevar un registro preciso de su historial de salud, reproducción y producción. Esto puede realizarse mediante el uso de dispositivos de identificación electrónica (EID) o sistemas de etiquetado con códigos de barras."
   ]
  },
  {
   "cell_type": "markdown",
   "id": "31766b02",
   "metadata": {},
   "source": [
    "# Lectura de los datos"
   ]
  },
  {
   "cell_type": "code",
   "execution_count": null,
   "id": "06669621",
   "metadata": {},
   "outputs": [],
   "source": [
    "# abro dataframe\n",
    "\n",
    "df = pd.read_csv(\"./Dataset_TFn.csv\")\n",
    "df2 = pd.read_csv(\"./RE-ANALISIS-ANDRES-BASE-DATOS - copia.csv\", sep=\";\")\n",
    "\n",
    "'''url = \"https://ganaderiadeprecision.net.ar\"\n",
    "data = {'pma_username': 'root',\n",
    "        'pma_password': 'JAXEsCw5n9eXbrdv',\n",
    "        'server': '1',\n",
    "        'target': 'sql.php',\n",
    "        'db': 'IoT',\n",
    "        'table': 'Prueba',\n",
    "        'set_session': 'f73085e0028564eac929b21e60d56550',\n",
    "        'token': '3f3a5d7035496b67684b397e3d4e463d'}\n",
    "session = requests.Session()\n",
    "response = session.post(url, data=data)\n",
    "\n",
    "html_content = response.text\n",
    "soup = BeautifulSoup(html_content)\n",
    "print(soup.prettify())'''"
   ]
  },
  {
   "cell_type": "code",
   "execution_count": null,
   "id": "eb72c09d",
   "metadata": {},
   "outputs": [],
   "source": [
    "df2"
   ]
  },
  {
   "cell_type": "code",
   "execution_count": null,
   "id": "801eb5ef",
   "metadata": {},
   "outputs": [],
   "source": [
    "df"
   ]
  },
  {
   "cell_type": "markdown",
   "id": "aa0462f8",
   "metadata": {},
   "source": [
    "# Acomodo de los datos para una mejor vision y practicidad"
   ]
  },
  {
   "cell_type": "code",
   "execution_count": null,
   "id": "7f2f672a",
   "metadata": {},
   "outputs": [],
   "source": [
    "df2.rename(columns={\"Act.dia\": \"Act_dia\"}, inplace=True)"
   ]
  },
  {
   "cell_type": "code",
   "execution_count": null,
   "id": "a6b4bb65",
   "metadata": {},
   "outputs": [],
   "source": [
    "#Eliminar los datos no relevantes\n",
    "#df = df[abs(df[\"t_Ambiente\"] - df[\"t_Corporal\"]) > 0.5]"
   ]
  },
  {
   "cell_type": "code",
   "execution_count": null,
   "id": "83fc96f8",
   "metadata": {},
   "outputs": [],
   "source": [
    "# Conversion de tipo int a fecha de pandas\n",
    "df.isetitem(0,  pd.to_datetime(df[\"fecha\"],format=\"%d/%m/%Y\"))\n",
    "df.isetitem(1,  pd.to_datetime(df[\"hora\"]).dt.strftime('%H:%M'))\n",
    "\n",
    "df2.isetitem(4,  pd.to_datetime(df2[\"DIA\"],format=\"%d/%m/%Y\"))\n",
    "df2.isetitem(8,  pd.to_datetime(df2[\"HORA\"]).dt.strftime('%H:%M'))\n",
    "print(df)\n",
    "print(df2)"
   ]
  },
  {
   "cell_type": "code",
   "execution_count": null,
   "id": "c04a8b2f",
   "metadata": {},
   "outputs": [],
   "source": [
    "# Conversion de los datos de geolocalizacion a estandares internacionales\n",
    "df.loc[:, \"latitud\"] = df[\"latitud\"].apply(lambda x: x * -0.000001)\n",
    "df.loc[:, \"longitud\"] = df[\"longitud\"].apply(lambda x: x * -0.000001)\n",
    "df2.loc[:, \"x\"] = df2[\"x\"].apply(lambda x: x * -0.0001)\n",
    "df2.loc[:, \"y\"] = df2[\"y\"].apply(lambda x: x * -0.00001)\n",
    "print(df)\n",
    "print(df2)"
   ]
  },
  {
   "cell_type": "code",
   "execution_count": null,
   "id": "cc0e3788",
   "metadata": {},
   "outputs": [],
   "source": [
    "df2[\"EPOCA\"] = df2[\"EPOCA\"].astype(\"category\")\n",
    "df2[\"RAZA\"] = df2[\"RAZA\"].astype(\"category\")\n",
    "df2[\"Act_dia\"] = df2[\"Act_dia\"].astype(\"category\")\n",
    "df2.dtypes"
   ]
  },
  {
   "cell_type": "code",
   "execution_count": null,
   "id": "6ffa18b2",
   "metadata": {},
   "outputs": [],
   "source": [
    "df2.EPOCA.unique()"
   ]
  },
  {
   "cell_type": "code",
   "execution_count": null,
   "id": "52cd4f16",
   "metadata": {},
   "outputs": [],
   "source": [
    "df2.RAZA.unique()"
   ]
  },
  {
   "cell_type": "code",
   "execution_count": null,
   "id": "5fbdc7eb",
   "metadata": {},
   "outputs": [],
   "source": [
    "df2.Act_dia.unique()"
   ]
  },
  {
   "cell_type": "code",
   "execution_count": null,
   "id": "35f035dc",
   "metadata": {},
   "outputs": [],
   "source": [
    "df['season'] = df.loc[:,'fecha'].dt.month % 12 // 3 + 1\n",
    "df['collar'] = 1\n",
    "df"
   ]
  },
  {
   "cell_type": "code",
   "execution_count": null,
   "id": "b17530c1",
   "metadata": {},
   "outputs": [],
   "source": [
    "df2['season'] = df2.loc[:,'DIA'].dt.month % 12 // 3 + 1\n",
    "df2"
   ]
  },
  {
   "cell_type": "code",
   "execution_count": null,
   "id": "fdb18c27",
   "metadata": {},
   "outputs": [],
   "source": [
    "df.dtypes"
   ]
  },
  {
   "cell_type": "code",
   "execution_count": null,
   "id": "85237243",
   "metadata": {},
   "outputs": [],
   "source": [
    "#Verificar si existen datos inexistente\n",
    "df.isna().sum()"
   ]
  },
  {
   "cell_type": "code",
   "execution_count": null,
   "id": "5cb91f63",
   "metadata": {},
   "outputs": [],
   "source": [
    "df2 = pd.get_dummies(data=df2, columns=[\"EPOCA\"], drop_first=True)\n",
    "df2 = pd.get_dummies(data=df2, columns=[\"RAZA\"], drop_first=True)\n",
    "df2 = pd.get_dummies(data=df2, columns=[\"Act_dia\"], drop_first=True)"
   ]
  },
  {
   "cell_type": "markdown",
   "id": "2b208c33",
   "metadata": {},
   "source": [
    "La Epoca solo tiene 2 temporadas verano y invierno, por lo cual para futuro diseño de sistemas de prediccion se combierte verano en 1 y invierno en 0.\n",
    "Lo mismo pasa con raza teniendo criolla argentina 1 y angus 0\n",
    "Al contrario con la actividad que tiene 3 valores 'Descanso', 'Desplazamiento', 'Pastoreo', lo cual se crean 2 columnas desplazamiento y pastoreo lo cual tiene 1 si es lo realizado y 0 si no, al 2 tener 0 el animal se eencuetra en reposo"
   ]
  },
  {
   "cell_type": "code",
   "execution_count": null,
   "id": "8650dc90",
   "metadata": {},
   "outputs": [],
   "source": [
    "df2"
   ]
  },
  {
   "cell_type": "code",
   "execution_count": null,
   "id": "06ea1434",
   "metadata": {},
   "outputs": [],
   "source": [
    "df_temperatura = pd.DataFrame({\"t_animal\": df.loc[:,\"t_Corporal\"],\n",
    "                           \"t_ambiente\": df.loc[:,\"t_Ambiente\"]})"
   ]
  },
  {
   "cell_type": "code",
   "execution_count": null,
   "id": "a5759007",
   "metadata": {},
   "outputs": [],
   "source": [
    "df_temperatura"
   ]
  },
  {
   "cell_type": "code",
   "execution_count": null,
   "id": "7a869a3e",
   "metadata": {
    "scrolled": true
   },
   "outputs": [],
   "source": [
    "df_geo1 = pd.DataFrame({\"Latitud\": df.loc[:,\"latitud\"],\n",
    "                       \"Longitud\":df.loc[:,\"longitud\"],\n",
    "                       \"Temporada\": df.loc[:,\"season\"],\n",
    "                       \"Collar\": df.loc[:,\"collar\"]})\n",
    "df_geo2 = pd.DataFrame({\"Latitud\": df2.loc[:,\"x\"],\n",
    "                       \"Longitud\":df2.loc[:,\"y\"],\n",
    "                       \"Temporada\": df2.loc[:,\"season\"],\n",
    "                       \"Collar\": df2.loc[:,\"COLLAR\"]})\n",
    "df_geo = pd.concat([df_geo1,df_geo2], axis=0)\n",
    "df_geo"
   ]
  },
  {
   "cell_type": "code",
   "execution_count": null,
   "id": "b18f825b",
   "metadata": {},
   "outputs": [],
   "source": [
    "df_geo.isnull().any()"
   ]
  },
  {
   "cell_type": "code",
   "execution_count": null,
   "id": "79ef27ee",
   "metadata": {},
   "outputs": [],
   "source": [
    "stats.spearmanr(df_temperatura[\"t_ambiente\"], df_temperatura[\"t_animal\"])"
   ]
  },
  {
   "cell_type": "code",
   "execution_count": null,
   "id": "325a4029",
   "metadata": {},
   "outputs": [],
   "source": [
    "stats.spearmanr(df_geo[\"Latitud\"], df_geo[\"Temporada\"])"
   ]
  },
  {
   "cell_type": "code",
   "execution_count": null,
   "id": "04a31275",
   "metadata": {},
   "outputs": [],
   "source": [
    "stats.spearmanr(df_geo[\"Longitud\"], df_geo[\"Temporada\"])"
   ]
  },
  {
   "cell_type": "code",
   "execution_count": null,
   "id": "cccfa24d",
   "metadata": {},
   "outputs": [],
   "source": [
    "df.corr(min_periods=3)"
   ]
  },
  {
   "cell_type": "code",
   "execution_count": null,
   "id": "1ecef402",
   "metadata": {},
   "outputs": [],
   "source": [
    "df2.corr(method='spearman',min_periods=3)"
   ]
  },
  {
   "cell_type": "markdown",
   "id": "50b90924",
   "metadata": {},
   "source": [
    "# Graficas"
   ]
  },
  {
   "cell_type": "code",
   "execution_count": null,
   "id": "c98f3b5d",
   "metadata": {},
   "outputs": [],
   "source": [
    "#gráfico de dispersión que muestra la relación entre la temperatura ambiente y la temperatura corporal del animal\n",
    "\n",
    "# Crear el gráfico de dispersión\n",
    "plt.scatter(df['t_Ambiente'], df['t_Corporal'], color='red', marker='o')\n",
    "\n",
    "# Ajustar una línea de tendencia\n",
    "z = np.polyfit(df['t_Ambiente'], df['t_Corporal'], 1)\n",
    "p = np.poly1d(z)\n",
    "plt.plot(df['t_Ambiente'], p(df['t_Ambiente']), 'k--')\n",
    "\n",
    "# Agregar etiquetas y título\n",
    "plt.xlabel('Temperatura ambiente')\n",
    "plt.ylabel('Temperatura del animal')\n",
    "plt.title('Temperatura del animal en función de la temperatura ambiente')\n",
    "\n",
    "# Mostrar el gráfico\n",
    "plt.show()"
   ]
  },
  {
   "cell_type": "code",
   "execution_count": null,
   "id": "4d1d9734",
   "metadata": {
    "scrolled": true
   },
   "outputs": [],
   "source": [
    "mapa = folium.Map(location=[df['latitud'].mean(), df['longitud'].mean()], zoom_start=13, )\n",
    "\n",
    "folium.TileLayer(tiles='https://{s}.google.com/vt/lyrs=s&x={x}&y={y}&z={z}', attr='Google', name='Google Satellite', max_zoom=20, subdomains=['mt0', 'mt1', 'mt2', 'mt3']).add_to(mapa)\n",
    "\n",
    "# Añadir marcadores para cada ubicación\n",
    "for i, row in df.iterrows():\n",
    "    folium.Marker([row['latitud'], row['longitud']], popup=f\"Humedad: {row['humedad']:.2f}\\nFecha: {row['fecha']} {row['hora']}\\n\").add_to(mapa)\n",
    "\n",
    "# Mostrar el mapa\n",
    "mapa"
   ]
  },
  {
   "cell_type": "code",
   "execution_count": null,
   "id": "6faed109",
   "metadata": {
    "scrolled": true
   },
   "outputs": [],
   "source": [
    "mapa = folium.Map(location=[df['latitud'].mean(), df['longitud'].mean()], zoom_start=13)\n",
    "\n",
    "folium.TileLayer(tiles='https://{s}.google.com/vt/lyrs=s&x={x}&y={y}&z={z}', attr='Google', name='Google Satellite', max_zoom=20, subdomains=['mt0', 'mt1', 'mt2', 'mt3']).add_to(mapa)\n",
    "\n",
    "# Agregar marcadores al mapa\n",
    "for index, row in df.iterrows():\n",
    "    folium.Marker(\n",
    "        location=[row['latitud'], row['longitud']],\n",
    "        popup=f\"Humedad: {row['humedad']}%<br>Fecha: {row['fecha']}<br>Hora: {row['hora']}\",\n",
    "        icon=folium.Icon(icon='info-sign', color='orange')\n",
    "    ).add_to(mapa)\n",
    "    \n",
    "# Agregar capa de calor\n",
    "heat_data = [[row['latitud'], row['longitud']] for index, row in df.iterrows()]\n",
    "HeatMap(heat_data).add_to(mapa)\n",
    "\n",
    "mapa"
   ]
  },
  {
   "cell_type": "code",
   "execution_count": null,
   "id": "8f18d3fc",
   "metadata": {},
   "outputs": [],
   "source": [
    "df2['cantidad'] = df2.groupby(['x', 'y'])['x'].transform('count')\n",
    "\n",
    "mapa = folium.Map(location=[df2['x'].mean(), df2['y'].mean()], zoom_start=13)\n",
    "\n",
    "folium.TileLayer(tiles='https://{s}.google.com/vt/lyrs=s&x={x}&y={y}&z={z}', attr='Google', name='Google Satellite', max_zoom=20, subdomains=['mt0', 'mt1', 'mt2', 'mt3']).add_to(mapa)\n",
    "\n",
    "# Agregar capa de calor\n",
    "heat_data = [[row['x'], row['y'], row['cantidad']] for index, row in df2.iterrows()]\n",
    "HeatMap(heat_data).add_to(mapa)\n",
    "\n",
    "# Mostrar el mapa\n",
    "mapa"
   ]
  },
  {
   "cell_type": "markdown",
   "id": "0343cdb7",
   "metadata": {},
   "source": [
    "# Creacion de sistemas de prediccion"
   ]
  },
  {
   "cell_type": "code",
   "execution_count": null,
   "id": "73964bde",
   "metadata": {},
   "outputs": [],
   "source": []
  }
 ],
 "metadata": {
  "kernelspec": {
   "display_name": "Python 3 (ipykernel)",
   "language": "python",
   "name": "python3"
  },
  "language_info": {
   "codemirror_mode": {
    "name": "ipython",
    "version": 3
   },
   "file_extension": ".py",
   "mimetype": "text/x-python",
   "name": "python",
   "nbconvert_exporter": "python",
   "pygments_lexer": "ipython3",
   "version": "3.10.11"
  },
  "toc": {
   "base_numbering": 1,
   "nav_menu": {},
   "number_sections": true,
   "sideBar": true,
   "skip_h1_title": false,
   "title_cell": "Table of Contents",
   "title_sidebar": "Contents",
   "toc_cell": false,
   "toc_position": {
    "height": "calc(100% - 180px)",
    "left": "10px",
    "top": "150px",
    "width": "165px"
   },
   "toc_section_display": true,
   "toc_window_display": true
  },
  "varInspector": {
   "cols": {
    "lenName": 16,
    "lenType": 16,
    "lenVar": 40
   },
   "kernels_config": {
    "python": {
     "delete_cmd_postfix": "",
     "delete_cmd_prefix": "del ",
     "library": "var_list.py",
     "varRefreshCmd": "print(var_dic_list())"
    },
    "r": {
     "delete_cmd_postfix": ") ",
     "delete_cmd_prefix": "rm(",
     "library": "var_list.r",
     "varRefreshCmd": "cat(var_dic_list()) "
    }
   },
   "types_to_exclude": [
    "module",
    "function",
    "builtin_function_or_method",
    "instance",
    "_Feature"
   ],
   "window_display": false
  }
 },
 "nbformat": 4,
 "nbformat_minor": 5
}
